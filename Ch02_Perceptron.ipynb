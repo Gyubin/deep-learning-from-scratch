{
 "cells": [
  {
   "cell_type": "markdown",
   "metadata": {},
   "source": [
    "# 2. Perceptron\n",
    "\n",
    "## 2.1 AND, NAND, OR\n",
    "\n",
    "똑같은 구조와 threshold를 가지는 함수들인데, 내부 weight 값들만 다르다."
   ]
  },
  {
   "cell_type": "code",
   "execution_count": 1,
   "metadata": {},
   "outputs": [],
   "source": [
    "import numpy as np\n",
    "\n",
    "def AND(x1, x2):\n",
    "    x = np.array([x1, x2])\n",
    "    w = np.array([0.5, 0.5])\n",
    "    b = -0.7\n",
    "    tmp = np.sum(w*x) + b # np.dot(w, x)+ b\n",
    "    if tmp <= 0:\n",
    "        return 0\n",
    "    else:\n",
    "        return 1\n",
    "\n",
    "def NAND(x1, x2):\n",
    "    x = np.array([x1, x2])\n",
    "    w = np.array([-0.5, -0.5])\n",
    "    b = 0.7\n",
    "    tmp = np.sum(w*x) + b # np.dot(w, x)+ b\n",
    "    if tmp <= 0:\n",
    "        return 0\n",
    "    else:\n",
    "        return 1\n",
    "\n",
    "def OR(x1, x2):\n",
    "    x = np.array([x1, x2])\n",
    "    w = np.array([0.5, 0.5])\n",
    "    b = -0.2\n",
    "    tmp = np.sum(w*x) + b # np.dot(w, x)+ b\n",
    "    if tmp <= 0:\n",
    "        return 0\n",
    "    else:\n",
    "        return 1"
   ]
  },
  {
   "cell_type": "markdown",
   "metadata": {},
   "source": [
    "## 2.2 XOR\n",
    "\n",
    "- 두 값이 달라야 True. ex) (1, 0) -> True, (1, 1) -> False\n",
    "- 위 AND, NAND, OR 게이트들은 선형 분리 가능한 케이스인데 XOR은 하나의 직선으로 분리가 불가능하다.\n",
    "- 그래서 perceptron을 다층으로 쌓아서 분류한다.\n",
    "    + 두 매개변수를 NAND, OR 각각의 게이트에 넣고 결과를 도출한 후 (Hidden layer)\n",
    "    + 그 두 결과를 AND 게이트에 넣어서 나온 결과를 리턴(Output layer)"
   ]
  },
  {
   "cell_type": "code",
   "execution_count": 2,
   "metadata": {},
   "outputs": [],
   "source": [
    "def XOR(x1, x2):\n",
    "    s1 = NAND(x1, x2)\n",
    "    s2 = OR(x1, x2)\n",
    "    y = AND(s1, s2)\n",
    "    return y"
   ]
  },
  {
   "cell_type": "code",
   "execution_count": 3,
   "metadata": {},
   "outputs": [
    {
     "name": "stdout",
     "output_type": "stream",
     "text": [
      "(0, 0) -> 0\n",
      "(1, 0) -> 1\n",
      "(0, 1) -> 1\n",
      "(1, 1) -> 0\n"
     ]
    }
   ],
   "source": [
    "for xs in [(0, 0), (1, 0), (0, 1), (1, 1)]:\n",
    "    y = XOR(xs[0], xs[1])\n",
    "    print(str(xs) + \" -> \" + str(y))"
   ]
  },
  {
   "cell_type": "code",
   "execution_count": null,
   "metadata": {},
   "outputs": [],
   "source": []
  }
 ],
 "metadata": {
  "kernelspec": {
   "display_name": "Python 3",
   "language": "python",
   "name": "python3"
  },
  "language_info": {
   "codemirror_mode": {
    "name": "ipython",
    "version": 3
   },
   "file_extension": ".py",
   "mimetype": "text/x-python",
   "name": "python",
   "nbconvert_exporter": "python",
   "pygments_lexer": "ipython3",
   "version": "3.6.2"
  }
 },
 "nbformat": 4,
 "nbformat_minor": 2
}
